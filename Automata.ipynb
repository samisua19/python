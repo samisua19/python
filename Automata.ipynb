{
 "cells": [
  {
   "cell_type": "code",
   "execution_count": 2,
   "metadata": {},
   "outputs": [
    {
     "name": "stdout",
     "output_type": "stream",
     "text": [
      "--------Lista de nodos--------\n",
      "ingrese el nodo: 1\n",
      "Desea seguir ingresando nodos: (SI=0 NO=1)0\n",
      "ingrese el nodo: 2\n",
      "Desea seguir ingresando nodos: (SI=0 NO=1)0\n",
      "ingrese el nodo: 3\n",
      "Desea seguir ingresando nodos: (SI=0 NO=1)1\n",
      "Digite el estado inicial: 1\n",
      "Digite el estado de aceptacion: 2\n",
      "Ingrese la palabra a evaluar: aaabbbaa\n",
      "--------Digite las rutas--------\n"
     ]
    },
    {
     "data": {
      "image/png": "[encoded data removed]",
      "text/plain": [
       "<Figure size 432x288 with 1 Axes>"
      ]
     },
     "metadata": {},
     "output_type": "display_data"
    },
    {
     "name": "stdout",
     "output_type": "stream",
     "text": [
      "False\n"
     ]
    }
   ],
   "source": [
    "import networkx as nx\n",
    "import matplotlib.pyplot as plt\n",
    "edges={}\n",
    "def fsmsim(string, current, edges, aceptacion):#creamos la funcion\n",
    "    if string == \"\":#cuando no encuentra nada\n",
    "        return current in aceptacion #retorna true\n",
    "    else:\n",
    "        letter= string[0] # comienza con el primer caracter\n",
    "        if(current,letter)in edges: # compara (estado,letra) se encuentra en edges\n",
    "            destination=edges[(current,letter)]#si es asi destination tendra el nuevo valor estado\n",
    "            remaining_string=string[1:]#comenzara a recorrer los demas caracteres\n",
    "            return fsmsim(remaining_string,destination,edges,aceptacion)#funcion recursiva\n",
    "        else:\n",
    "            return False #si no es asi retorna falso\n",
    "#hacemos una prueba\n",
    "bandera = 0\n",
    "cont = 1\n",
    "G = nx.Graph()\n",
    "print(\"--------Lista de nodos--------\")\n",
    "while bandera == 0 :\n",
    "    nodo = int(input(\"ingrese el nodo: \"))\n",
    "    G.add_nodes_from([nodo])\n",
    "    bandera = int(input(\"Desea seguir ingresando nodos: (SI=0 NO=1)\"))\n",
    "Einicial = int(input(\"Digite el estado inicial: \"))\n",
    "acep = int(input(\"Digite el estado de aceptacion: \"))\n",
    "aceptacion = [acep]  #estado de aceptacion\n",
    "palabra = input(\"Ingrese la palabra a evaluar: \")\n",
    "print(\"--------Digite las rutas--------\")\n",
    "while bandera == 0 :\n",
    "    print(\"    --------Ruta # {}--------\".format(cont))\n",
    "    Ninicial = input(\"nodo inicial: \")\n",
    "    Ltrans = input(\"letra de transcision: \")\n",
    "    Nfinal = input(\"nodo final: \")\n",
    "    edges[(int(Ninicial),Ltrans)] = int(Nfinal)\n",
    "    bandera = int(input(\"desea seguir ingresando rutas: (SI=0 NO=1)\"))\n",
    "    G.add_edges_from([(Ninicial, Nfinal)])\n",
    "    cont+= 1\n",
    "nx.draw(G)\n",
    "plt.show()\n",
    "print(fsmsim(palabra,Einicial,edges,aceptacion))"
   ]
  },
  {
   "cell_type": "code",
   "execution_count": null,
   "metadata": {},
   "outputs": [],
   "source": []
  },
  {
   "cell_type": "code",
   "execution_count": null,
   "metadata": {},
   "outputs": [],
   "source": []
  }
 ],
 "metadata": {
  "kernelspec": {
   "display_name": "Python 3",
   "language": "python",
   "name": "python3"
  },
  "language_info": {
   "codemirror_mode": {
    "name": "ipython",
    "version": 3
   },
   "file_extension": ".py",
   "mimetype": "text/x-python",
   "name": "python",
   "nbconvert_exporter": "python",
   "pygments_lexer": "ipython3",
   "version": "3.7.3"
  }
 },
 "nbformat": 4,
 "nbformat_minor": 2
}
